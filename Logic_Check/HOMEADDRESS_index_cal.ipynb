{
 "cells": [
  {
   "cell_type": "code",
   "execution_count": 1,
   "metadata": {
    "collapsed": true
   },
   "outputs": [],
   "source": [
    "import pandas as pd\n",
    "import re"
   ]
  },
  {
   "cell_type": "code",
   "execution_count": 2,
   "metadata": {
    "collapsed": false
   },
   "outputs": [
    {
     "name": "stderr",
     "output_type": "stream",
     "text": [
      "D:\\Anaconda\\lib\\site-packages\\IPython\\core\\interactiveshell.py:2717: DtypeWarning: Columns (17,21,22) have mixed types. Specify dtype option on import or set low_memory=False.\n",
      "  interactivity=interactivity, compiler=compiler, result=result)\n"
     ]
    }
   ],
   "source": [
    "client_info_df = pd.read_csv(r'E:\\wd_work\\unti_cheat\\D1_B_0201_0613_0615_B.csv')"
   ]
  },
  {
   "cell_type": "code",
   "execution_count": null,
   "metadata": {
    "collapsed": false
   },
   "outputs": [],
   "source": [
    "#######城市变更次数########################"
   ]
  },
  {
   "cell_type": "code",
   "execution_count": 6,
   "metadata": {
    "collapsed": false
   },
   "outputs": [
    {
     "data": {
      "text/plain": [
       "my_home_address        815662\n",
       "my_company_name        524858\n",
       "my_contact_phone       376697\n",
       "my_contact             319647\n",
       "my_work_address        137682\n",
       "city                    30662\n",
       "my_phone                12943\n",
       "my_contact_relation      9442\n",
       "Name: ACTION_CONTROL, dtype: int64"
      ]
     },
     "execution_count": 6,
     "metadata": {},
     "output_type": "execute_result"
    }
   ],
   "source": [
    "client_info_df.ACTION_CONTROL.value_counts()"
   ]
  },
  {
   "cell_type": "code",
   "execution_count": 8,
   "metadata": {
    "collapsed": false
   },
   "outputs": [],
   "source": [
    "client_city_df = client_info_df[client_info_df.ACTION_CONTROL=='city']"
   ]
  },
  {
   "cell_type": "code",
   "execution_count": 11,
   "metadata": {
    "collapsed": false
   },
   "outputs": [
    {
     "data": {
      "text/plain": [
       "Index(['ACTION_CONTROL', 'ACTION_GROUP', 'ACTION_PAGE', 'ACTION_TEXT',\n",
       "       'ACTION_VALUE', 'CLIENT_TIME', 'CREATE_DATE', '中文匹配', 'D3', 'D10', 'F6',\n",
       "       'GETTEL(A.MOBILE)', 'ID', 'MACHINE_UUID', 'MAX_MAXOVERDUEDAYS', '记录数',\n",
       "       'PUTOUTDATE_TIMES', 'T3%', 'T30#', 'T3#', 'T10#', '[T3->T10]%', 'T10% ',\n",
       "       'T20#', 'TEL', 'USER_ID', '日(APPLY_DATE)', '日(MIN_PUTOUTDATE)'],\n",
       "      dtype='object')"
      ]
     },
     "execution_count": 11,
     "metadata": {},
     "output_type": "execute_result"
    }
   ],
   "source": [
    "client_city_df.columns"
   ]
  },
  {
   "cell_type": "code",
   "execution_count": 15,
   "metadata": {
    "collapsed": false
   },
   "outputs": [],
   "source": [
    "city_changed_cnt = client_city_df.drop_duplicates(['USER_ID','ACTION_VALUE'])[['USER_ID','ACTION_VALUE']].groupby('USER_ID').count().reset_index()"
   ]
  },
  {
   "cell_type": "code",
   "execution_count": 514,
   "metadata": {
    "collapsed": true
   },
   "outputs": [],
   "source": [
    "#########详细地址变更次数########################"
   ]
  },
  {
   "cell_type": "code",
   "execution_count": null,
   "metadata": {
    "collapsed": false
   },
   "outputs": [],
   "source": [
    "%%time\n",
    "client_addr_df = client_info_df[client_info_df.ACTION_CONTROL=='my_home_address']\n",
    "client_addr_df.ACTION_VALUE = client_addr_df.ACTION_VALUE.apply(lambda x:re.sub(u\"[a-z？]\",'',str(x)))\n",
    "client_addr = []\n",
    "user_idlist = []\n",
    "client_addr_df['str_len'] = client_addr_df.ACTION_VALUE.str.len()\n",
    "client_addr_df['str_len1'] =client_addr_df['str_len'].shift(-1).fillna(list(client_addr_df['str_len'])[-1])\n",
    "client_addr_df['str_len_dif'] = client_addr_df['str_len1']-client_addr_df['str_len']\n",
    "client_addr_df['str_len_dif1'] =client_addr_df['str_len_dif'].shift(1)\n",
    "######################################################################################################################################\n",
    "for user_id in set(list(client_addr_df.USER_ID)):\n",
    "#     print(user_id)\n",
    "    aa = client_addr_df[client_addr_df.USER_ID==user_id]\n",
    "    aaaa = aa.iloc[1:-1,:]\n",
    "    aaa = aaaa[(aaaa.str_len_dif1>=0) & (aaaa.str_len_dif<0)]\n",
    "    if len(aaa)>=1:\n",
    "        bb = list(aaa.ACTION_VALUE)\n",
    "        bb.append(list(aa.iloc[-1:,:].ACTION_VALUE)[-1])\n",
    "        client_addr.append(bb)\n",
    "    else:\n",
    "        client_addr.append(list(aa.iloc[-1:,:].ACTION_VALUE)[-1])\n",
    "    user_idlist.append(user_id)\n",
    "#######################################################################################################################################    \n",
    "client_addr1 = []\n",
    "for addr in client_addr:\n",
    "    aaaaa = []\n",
    "    if type(addr) != str:       \n",
    "        for addr1 in addr:\n",
    "#             print(len(addr1))\n",
    "            if len(addr1)>5:\n",
    "                aaaaa.append(addr1)\n",
    "        client_addr1.append(aaaaa)\n",
    "    else:\n",
    "        if len(addr)>5:\n",
    "            client_addr1.append(addr)\n",
    "        else:\n",
    "            client_addr1.append(' ')\n",
    "######################################################################################################################################\n",
    "id_list = []\n",
    "c = 0\n",
    "for addr in client_addr1:\n",
    "    \n",
    "    if type(addr) != str and len(addr)>1:       \n",
    "        id_list.extend([user_idlist[c],]*len(addr))\n",
    "        \n",
    "    elif type(addr) == str or len(addr)==1:\n",
    "        id_list.append(user_idlist[c])\n",
    "    c += 1\n",
    "addr_list = []\n",
    "for addr in client_addr1:\n",
    "    if type(addr) != str:       \n",
    "        addr_list.extend(addr)\n",
    "        \n",
    "    elif type(addr) == str :\n",
    "        addr_list.append(addr)\n",
    "#################################################################################################################################\n",
    "ADDR_DF = pd.DataFrame({'USER_ID':id_list,'ADDR':addr_list})\n",
    "ADDR_DF['ADDR_LEN'] = ADDR_DF.ADDR.str.len()\n",
    "ADDR_DF = ADDR_DF.sort_values(by=['USER_ID','ADDR_LEN'],ascending=False)\n",
    "addr_cnt_df = ADDR_DF.groupby('USER_ID').count().reset_index()[['USER_ID','ADDR']].rename(columns={'ADDR':'addr_cnt'})\n",
    "ADDR_DF1 = pd.merge(ADDR_DF,addr_cnt_df,on='USER_ID',how='left')\n",
    "ADDR_DF2 = ADDR_DF1[ADDR_DF1.addr_cnt>1]\n",
    "import difflib\n",
    "data_box = []\n",
    "for user_id in set(list(ADDR_DF2.USER_ID)):\n",
    "    ADDR_DF3 = ADDR_DF2[ADDR_DF2.USER_ID==user_id]\n",
    "    addr1 = list(ADDR_DF3.ADDR)[0]\n",
    "    for i in range(1,len(ADDR_DF3)):\n",
    "        if difflib.SequenceMatcher(None,str(addr1),str( list(ADDR_DF3.ADDR)[i])).ratio()<0.4:\n",
    "            data_box.append((user_id,addr1,list(ADDR_DF3.ADDR)[i]))\n",
    "ADDR_DF3 = pd.DataFrame(data_box,columns=['USER_ID','ADDR1','ADDR2'])\n",
    "ADDR_DF3['ADDR_LEN'] = ADDR_DF3.ADDR2.str.len()\n",
    "ADDR_DF3 = ADDR_DF3.sort_values(by='ADDR_LEN')\n",
    "import copy\n",
    "dt = []\n",
    "for user_id in set(list(ADDR_DF3.USER_ID)):\n",
    "    addr_df = ADDR_DF3[ADDR_DF3.USER_ID==user_id]\n",
    "    addr_df = addr_df.sort_values(by='ADDR_LEN',ascending=False)\n",
    "    aa = list(addr_df.ADDR2)\n",
    "    aaa = copy.deepcopy(aa)\n",
    "    print(aaa)\n",
    "    if addr_df.shape[0]>1:\n",
    "        for i in range(len(aa)-1):\n",
    "            for j in range(i+1,len(aa)):\n",
    "                if difflib.SequenceMatcher(None,str(aa[i]),str(aa[j])).ratio()>0.3:\n",
    "#                     print(aa[j])\n",
    "                    if aa[j] in aaa:\n",
    "                        aaa.remove(aa[j])\n",
    "    \n",
    "    dt.append((user_id,aaa))\n",
    "ADDR_DF4 = pd.DataFrame(dt,columns=['USER_ID','ADDR3'])    \n",
    "ADDR_DF5 = pd.merge(ADDR_DF3,ADDR_DF4,on='USER_ID',how='left').drop_duplicates(['USER_ID','ADDR1'])\n",
    "addr_lists = []\n",
    "for i in range(len(ADDR_DF5)):\n",
    "    addr_list  = list(ADDR_DF5.ADDR3)[i]\n",
    "    addr_list.append(list(ADDR_DF5.ADDR1)[i])\n",
    "    addr_lists.append([len(addr_list),addr_list])\n",
    "ADDR_DF5['addr_changed_cnt'] = [addr[0] for addr in addr_lists]\n",
    "ADDR_DF5['addr_changed'] = [addr[1] for addr in addr_lists]\n",
    "ADDR_DF6 = ADDR_DF5[['USER_ID','addr_changed_cnt','addr_changed']]\n",
    "ADDR_DF7 = ADDR_DF1[ADDR_DF1.addr_cnt==1][['USER_ID','addr_cnt','ADDR']]\n",
    "ADDR_DF7.columns=ADDR_DF6.columns\n",
    "ADDR_DF8 = pd.concat([ADDR_DF7,ADDR_DF6],ignore_index=True)\n",
    "ADDR_DF8.addr_changed_cnt.value_counts()"
   ]
  },
  {
   "cell_type": "code",
   "execution_count": 517,
   "metadata": {
    "collapsed": false
   },
   "outputs": [],
   "source": [
    "#####################是否精确到详细地址####################################"
   ]
  },
  {
   "cell_type": "code",
   "execution_count": 518,
   "metadata": {
    "collapsed": false
   },
   "outputs": [
    {
     "name": "stdout",
     "output_type": "stream",
     "text": [
      "Wall time: 1.38 s\n"
     ]
    }
   ],
   "source": [
    "%%time\n",
    "client_addr_df = client_info_df[client_info_df.ACTION_CONTROL=='my_home_address'].sort_values(by=['USER_ID','ID']).drop_duplicates('USER_ID',keep='last')\n",
    "bool_list = []\n",
    "for addr in list(client_addr_df.ACTION_VALUE):\n",
    "    c = 0\n",
    "    for i in range(10):\n",
    "        if str(i) in addr:\n",
    "            c+=1\n",
    "    if c>0:\n",
    "        bool_list.append(1)\n",
    "    else:\n",
    "        bool_list.append(0)\n",
    "client_addr_df['is_addr_accurate'] = bool_list\n",
    "is_addr_accurate_df = client_addr_df[['USER_ID','is_addr_accurate']]"
   ]
  },
  {
   "cell_type": "code",
   "execution_count": 520,
   "metadata": {
    "collapsed": false
   },
   "outputs": [],
   "source": [
    "######################模糊详细地址##############################"
   ]
  },
  {
   "cell_type": "code",
   "execution_count": 521,
   "metadata": {
    "collapsed": false
   },
   "outputs": [
    {
     "name": "stderr",
     "output_type": "stream",
     "text": [
      "D:\\Anaconda\\lib\\site-packages\\ipykernel\\__main__.py:3: SettingWithCopyWarning: \n",
      "A value is trying to be set on a copy of a slice from a DataFrame.\n",
      "Try using .loc[row_indexer,col_indexer] = value instead\n",
      "\n",
      "See the caveats in the documentation: http://pandas.pydata.org/pandas-docs/stable/indexing.html#indexing-view-versus-copy\n",
      "  app.launch_new_instance()\n"
     ]
    },
    {
     "name": "stdout",
     "output_type": "stream",
     "text": [
      "Wall time: 2min 11s\n"
     ]
    }
   ],
   "source": [
    "%%time\n",
    "client_addr_df = client_info_df[client_info_df.ACTION_CONTROL=='my_home_address']\n",
    "client_addr_df1 = client_addr_df[['USER_ID','ID','ACTION_VALUE']]\n",
    "client_addr_df1['addr_len'] = client_addr_df1.ACTION_VALUE.str.len()\n",
    "def stat_addr(df):\n",
    "    \n",
    "    df['addr_len1'] = df['addr_len'].shift(-1).fillna(999)\n",
    "    df['dif'] = df['addr_len1']-df['addr_len']\n",
    "    df1 = df[df.dif<0]\n",
    "    df1.index = range(len(df1))\n",
    "    df1['ID1'] = df1['ID'].shift(-1)\n",
    "    df1['ID_DIF'] = df1['ID1']-df1['ID']\n",
    "    fen_list = list(df1[df1.ID_DIF>1].index)\n",
    "    aa = []\n",
    "    if len(fen_list)<1:\n",
    "        return 0\n",
    "    else:\n",
    "        for i in range(len(fen_list)):\n",
    "            if i == 0:\n",
    "                aa.append(df1[:fen_list[i]+1])\n",
    "            elif i == len(fen_list):\n",
    "                aa.append(df1[fen_list[i]+1:])\n",
    "            else:\n",
    "                aa.append(df1[fen_list[i-1]+1:fen_list[i]+1])\n",
    "        a = 0\n",
    "        b = 0\n",
    "        for df in aa:\n",
    "            for i in ['0','1','2','3','4','5','6','7','8','9']:\n",
    "                if i in str(list(df.ACTION_VALUE)[0]):\n",
    "                    a += 1\n",
    "                if i in str(list(df.ACTION_VALUE)[-1]):\n",
    "                    b += 1\n",
    "        c = 0\n",
    "        if (a > 0)& (b == 0):\n",
    "            c = 1\n",
    "        return c\n",
    "    \n",
    "is_addr_fuzzy_df = client_addr_df1.groupby('USER_ID').apply(stat_addr)\n",
    "is_addr_fuzzy_df = is_addr_fuzzy_df.reset_index().rename(columns={0:'is_addr_fuzzy'})"
   ]
  },
  {
   "cell_type": "code",
   "execution_count": 216,
   "metadata": {
    "collapsed": false
   },
   "outputs": [],
   "source": [
    "#################是否使用默认输入法######################"
   ]
  },
  {
   "cell_type": "code",
   "execution_count": 522,
   "metadata": {
    "collapsed": false
   },
   "outputs": [
    {
     "name": "stdout",
     "output_type": "stream",
     "text": [
      "Wall time: 39.7 s\n"
     ]
    }
   ],
   "source": [
    "%%time\n",
    "client_addr_df = client_info_df[client_info_df.ACTION_CONTROL=='my_home_address']\n",
    "ll = []\n",
    "userlist = []\n",
    "for USER_ID in set(list(client_addr_df.USER_ID)):\n",
    "    ll.append(''.join([str(addr) for addr in list(client_addr_df[client_addr_df.USER_ID==USER_ID].ACTION_VALUE)]))\n",
    "    userlist.append(USER_ID)\n",
    "    \n",
    "is_default_input_list = []\n",
    "for addrlist in ll:\n",
    "    try :\n",
    "        re.search(u\"[a-z]+？+[a-z]\",addrlist).group()\n",
    "#         print(addrlist)\n",
    "        is_default_input_list.append(1)\n",
    "    except:\n",
    "        is_default_input_list.append(0)\n",
    "is_default_input_df = pd.DataFrame({'USER_ID':userlist,'is_default_input':is_default_input_list})           "
   ]
  },
  {
   "cell_type": "code",
   "execution_count": null,
   "metadata": {
    "collapsed": false
   },
   "outputs": [],
   "source": [
    "##############是否是手写输入#########################\n",
    "client_addr_df = client_info_df[client_info_df.ACTION_CONTROL=='my_home_address']\n",
    "J,一,、,亠,乛"
   ]
  },
  {
   "cell_type": "code",
   "execution_count": null,
   "metadata": {
    "collapsed": false
   },
   "outputs": [],
   "source": [
    "#############是否含有标点###################################"
   ]
  },
  {
   "cell_type": "code",
   "execution_count": 523,
   "metadata": {
    "collapsed": false
   },
   "outputs": [
    {
     "name": "stdout",
     "output_type": "stream",
     "text": [
      "Wall time: 39 s\n"
     ]
    }
   ],
   "source": [
    "%%time\n",
    "client_addr_df = client_info_df[client_info_df.ACTION_CONTROL=='my_home_address']\n",
    "ll = []\n",
    "userlist = []\n",
    "for USER_ID in set(list(client_addr_df.USER_ID)):\n",
    "    ll.append(''.join([str(addr) for addr in list(client_addr_df[client_addr_df.USER_ID==USER_ID].ACTION_VALUE)]))\n",
    "    userlist.append(USER_ID)\n",
    "is_obtain_someting_list = []\n",
    "for l in ll:\n",
    "    c = 0\n",
    "    for a in ['(',')','（','）','【','】','[',']','{','}','-','_']:\n",
    "        if a in l:\n",
    "            c += 1\n",
    "    if c == 0:\n",
    "        is_obtain_someting_list.append(0)\n",
    "    else:\n",
    "        is_obtain_someting_list.append(1)\n",
    "is_addr_include_punctuation = pd.DataFrame({'USER_ID':userlist,'is_default_input':is_obtain_someting_list})        \n",
    "        "
   ]
  },
  {
   "cell_type": "code",
   "execution_count": 524,
   "metadata": {
    "collapsed": true
   },
   "outputs": [],
   "source": [
    "###################地址长度最大值#########################################"
   ]
  },
  {
   "cell_type": "code",
   "execution_count": 525,
   "metadata": {
    "collapsed": false
   },
   "outputs": [
    {
     "name": "stdout",
     "output_type": "stream",
     "text": [
      "Wall time: 806 ms\n"
     ]
    },
    {
     "name": "stderr",
     "output_type": "stream",
     "text": [
      "D:\\Anaconda\\lib\\site-packages\\ipykernel\\__main__.py:2: SettingWithCopyWarning: \n",
      "A value is trying to be set on a copy of a slice from a DataFrame.\n",
      "Try using .loc[row_indexer,col_indexer] = value instead\n",
      "\n",
      "See the caveats in the documentation: http://pandas.pydata.org/pandas-docs/stable/indexing.html#indexing-view-versus-copy\n",
      "  from ipykernel import kernelapp as app\n"
     ]
    }
   ],
   "source": [
    "%%time\n",
    "client_addr_df = client_info_df[client_info_df.ACTION_CONTROL=='my_home_address']\n",
    "client_addr_df['addr_str_len'] = client_addr_df.ACTION_VALUE.str.len()\n",
    "max_addr_len_df = client_addr_df[['USER_ID','addr_str_len']].groupby('USER_ID').max().reset_index()"
   ]
  },
  {
   "cell_type": "code",
   "execution_count": 221,
   "metadata": {
    "collapsed": false
   },
   "outputs": [],
   "source": [
    "#################地址最终回落长度######"
   ]
  },
  {
   "cell_type": "code",
   "execution_count": 526,
   "metadata": {
    "collapsed": false
   },
   "outputs": [
    {
     "name": "stdout",
     "output_type": "stream",
     "text": [
      "Wall time: 1.27 s\n"
     ]
    }
   ],
   "source": [
    "%%time\n",
    "client_addr_df = client_info_df[client_info_df.ACTION_CONTROL=='my_home_address']\n",
    "last_addr_len = client_addr_df.sort_values(by=['USER_ID','ID']).drop_duplicates('USER_ID',keep='last')[['USER_ID','ACTION_VALUE']]\n",
    "last_addr_len['last_addr_len'] = last_addr_len.ACTION_VALUE.str.len()\n",
    "final_fall_addr_len = pd.merge(last_addr_len,max_addr_len_df,on='USER_ID',how='inner')\n",
    "final_fall_addr_len['final_fall_addr_len'] = final_fall_addr_len.addr_str_len-final_fall_addr_len.last_addr_len\n",
    "final_fall_addr_len_df = final_fall_addr_len[['USER_ID','final_fall_addr_len']]"
   ]
  },
  {
   "cell_type": "code",
   "execution_count": null,
   "metadata": {
    "collapsed": false
   },
   "outputs": [],
   "source": [
    "####################地址最大回落长度################################"
   ]
  },
  {
   "cell_type": "code",
   "execution_count": 527,
   "metadata": {
    "collapsed": false
   },
   "outputs": [
    {
     "name": "stderr",
     "output_type": "stream",
     "text": [
      "D:\\Anaconda\\lib\\site-packages\\ipykernel\\__main__.py:2: SettingWithCopyWarning: \n",
      "A value is trying to be set on a copy of a slice from a DataFrame.\n",
      "Try using .loc[row_indexer,col_indexer] = value instead\n",
      "\n",
      "See the caveats in the documentation: http://pandas.pydata.org/pandas-docs/stable/indexing.html#indexing-view-versus-copy\n",
      "  from ipykernel import kernelapp as app\n",
      "D:\\Anaconda\\lib\\site-packages\\ipykernel\\__main__.py:3: SettingWithCopyWarning: \n",
      "A value is trying to be set on a copy of a slice from a DataFrame.\n",
      "Try using .loc[row_indexer,col_indexer] = value instead\n",
      "\n",
      "See the caveats in the documentation: http://pandas.pydata.org/pandas-docs/stable/indexing.html#indexing-view-versus-copy\n",
      "  app.launch_new_instance()\n",
      "D:\\Anaconda\\lib\\site-packages\\ipykernel\\__main__.py:4: SettingWithCopyWarning: \n",
      "A value is trying to be set on a copy of a slice from a DataFrame.\n",
      "Try using .loc[row_indexer,col_indexer] = value instead\n",
      "\n",
      "See the caveats in the documentation: http://pandas.pydata.org/pandas-docs/stable/indexing.html#indexing-view-versus-copy\n"
     ]
    },
    {
     "name": "stdout",
     "output_type": "stream",
     "text": [
      "Wall time: 49.8 s\n"
     ]
    }
   ],
   "source": [
    "%%time\n",
    "client_addr_df = client_info_df[client_info_df.ACTION_CONTROL=='my_home_address']\n",
    "client_addr_df['addr_str_len'] = client_addr_df.ACTION_VALUE.str.len()\n",
    "client_addr_df['addr_str_len_b'] = client_addr_df['addr_str_len'].shift(1)\n",
    "client_addr_df['addr_str_len_a'] = client_addr_df['addr_str_len'].shift(-1)\n",
    "def get_minmum(df):\n",
    "    aa = []\n",
    "    if len(df)>=3:\n",
    "        for i in range(1,len(list(df.addr_str_len))-1):\n",
    "            if (list(df.addr_str_len)[i]<list(df.addr_str_len)[i-1])&(list(df.addr_str_len)[i]<list(df.addr_str_len)[i+1]):\n",
    "                aa.append(list(df.addr_str_len)[i])\n",
    "            else:\n",
    "                aa.append(9999)\n",
    "    else:\n",
    "        aa.append(9999)\n",
    "    return min(aa)\n",
    "max_fall_addr_len = client_addr_df.groupby('USER_ID').apply(get_minmum)\n",
    "max_fall_addr_len = pd.merge(max_addr_len_df,max_fall_addr_len.reset_index(),on='USER_ID',how='inner')\n",
    "max_fall_addr_len['max_fall_addr_len'] = max_fall_addr_len.addr_str_len-max_fall_addr_len[0]\n",
    "max_fall_addr_len.ix[max_fall_addr_len.max_fall_addr_len<0,'max_fall_addr_len'] = -1\n",
    "max_fall_addr_len_df = max_fall_addr_len[['USER_ID','max_fall_addr_len']]"
   ]
  },
  {
   "cell_type": "code",
   "execution_count": 225,
   "metadata": {
    "collapsed": false
   },
   "outputs": [],
   "source": [
    "#############城区乡镇####################"
   ]
  },
  {
   "cell_type": "code",
   "execution_count": 528,
   "metadata": {
    "collapsed": false
   },
   "outputs": [
    {
     "name": "stdout",
     "output_type": "stream",
     "text": [
      "Wall time: 1.31 s\n"
     ]
    }
   ],
   "source": [
    "%%time\n",
    "client_addr_df = client_info_df[client_info_df.ACTION_CONTROL=='my_home_address']\n",
    "client_addr_df = client_addr_df.sort_values(by=['USER_ID','ID']).drop_duplicates('USER_ID',keep='last')[['USER_ID','ACTION_VALUE']]\n",
    "addr_list = list(client_addr_df.ACTION_VALUE)\n",
    "addr_list_box = []\n",
    "for i in range(len(addr_list)):\n",
    "    if ('镇' in addr_list[i]) |('乡' in addr_list[i]):\n",
    "        addr_list_box.append(1)\n",
    "    else:\n",
    "        addr_list_box.append(0)\n",
    "client_addr_df['city_township'] = addr_list_box\n",
    "city_township_df = client_addr_df[['USER_ID','city_township']]"
   ]
  },
  {
   "cell_type": "code",
   "execution_count": null,
   "metadata": {
    "collapsed": false
   },
   "outputs": [],
   "source": [
    "##########是否有过复制粘贴#########################"
   ]
  },
  {
   "cell_type": "code",
   "execution_count": 529,
   "metadata": {
    "collapsed": false
   },
   "outputs": [
    {
     "name": "stdout",
     "output_type": "stream",
     "text": [
      "Wall time: 1.25 s\n"
     ]
    }
   ],
   "source": [
    "%%time\n",
    "client_addr_df = client_info_df[client_info_df.ACTION_CONTROL=='my_home_address']\n",
    "client_addr_df = client_addr_df.sort_values(by=['USER_ID','ID']).drop_duplicates('USER_ID',keep='first')[['USER_ID','ACTION_VALUE']]\n",
    "client_addr_df['addr_str_len'] = client_addr_df.ACTION_VALUE.str.len()\n",
    "client_addr_df['is_addr_copypaste'] = 0\n",
    "client_addr_df.ix[client_addr_df['addr_str_len']>=5,'is_addr_copypaste'] = 1\n",
    "is_addr_copypaste_df = client_addr_df[['USER_ID','is_addr_copypaste']]"
   ]
  },
  {
   "cell_type": "code",
   "execution_count": null,
   "metadata": {
    "collapsed": false
   },
   "outputs": [],
   "source": [
    "##############详细地址中是否包含市县区###################################"
   ]
  },
  {
   "cell_type": "code",
   "execution_count": 530,
   "metadata": {
    "collapsed": false
   },
   "outputs": [
    {
     "name": "stdout",
     "output_type": "stream",
     "text": [
      "Wall time: 1.25 s\n"
     ]
    }
   ],
   "source": [
    "%%time\n",
    "client_addr_df = client_info_df[client_info_df.ACTION_CONTROL=='my_home_address']\n",
    "client_addr_df = client_addr_df.sort_values(by=['USER_ID','ID']).drop_duplicates('USER_ID',keep='last')[['USER_ID','ACTION_VALUE']]\n",
    "addr_list = list(client_addr_df.ACTION_VALUE)\n",
    "addr_list_box = []\n",
    "for i in range(len(addr_list)):\n",
    "    if ('市' in addr_list[i]) |('区' in addr_list[i]) |('县' in addr_list[i]):\n",
    "        addr_list_box.append(1)\n",
    "    else:\n",
    "        addr_list_box.append(0)\n",
    "client_addr_df['is_addr_includecity'] = addr_list_box\n",
    "is_addr_includecity_df = client_addr_df[['USER_ID','is_addr_includecity']]"
   ]
  },
  {
   "cell_type": "code",
   "execution_count": null,
   "metadata": {
    "collapsed": false
   },
   "outputs": [],
   "source": [
    "###############输入地址熟练度############################################"
   ]
  },
  {
   "cell_type": "code",
   "execution_count": 531,
   "metadata": {
    "collapsed": false
   },
   "outputs": [
    {
     "name": "stdout",
     "output_type": "stream",
     "text": [
      "Wall time: 56.4 s\n"
     ]
    }
   ],
   "source": [
    "%%time\n",
    "client_addr_df = client_info_df[client_info_df.ACTION_CONTROL=='my_home_address']\n",
    "client_addr_df = client_addr_df.sort_values(by=['USER_ID','ID'])\n",
    "client_addr_df['addr_str_len'] = client_addr_df.ACTION_VALUE.str.len()\n",
    "def cal_pro(df):\n",
    "    df['addr_str_len1'] = df['addr_str_len'].shift(-1).fillna(0)\n",
    "    df['dif'] = df['addr_str_len1']-df['addr_str_len']\n",
    "    df1 = df[df.dif>0]\n",
    "    if len(df1)>0:\n",
    "        a = sum(df1.dif)/len(df1)\n",
    "    else:\n",
    "        a = -1\n",
    "    return a\n",
    "input_addr_proficiency_df = client_addr_df.groupby('USER_ID').apply(cal_pro)\n"
   ]
  },
  {
   "cell_type": "code",
   "execution_count": 244,
   "metadata": {
    "collapsed": false
   },
   "outputs": [],
   "source": [
    "####################总编辑次数####################"
   ]
  },
  {
   "cell_type": "code",
   "execution_count": 532,
   "metadata": {
    "collapsed": false
   },
   "outputs": [
    {
     "name": "stdout",
     "output_type": "stream",
     "text": [
      "Wall time: 410 ms\n"
     ]
    }
   ],
   "source": [
    "%%time\n",
    "client_addr_df = client_info_df[client_info_df.ACTION_CONTROL=='my_home_address']\n",
    "addr_id_cnt_df = client_addr_df[['USER_ID','ID']].groupby('USER_ID').count().reset_index().rename(columns={'ID':'addr_id_cnt'})"
   ]
  },
  {
   "cell_type": "code",
   "execution_count": 254,
   "metadata": {
    "collapsed": false
   },
   "outputs": [],
   "source": [
    "###################首次输入字符长度#########################"
   ]
  },
  {
   "cell_type": "code",
   "execution_count": 255,
   "metadata": {
    "collapsed": false
   },
   "outputs": [],
   "source": [
    "%%time\n",
    "client_addr_df = client_info_df[client_info_df.ACTION_CONTROL=='my_home_address']\n",
    "client_addr_df = client_addr_df.sort_values(by=['USER_ID','ID']).drop_duplicates('USER_ID',keep='first')[['USER_ID','ACTION_VALUE']]\n",
    "client_addr_df['addr_str_len'] = client_addr_df.ACTION_VALUE.str.len()\n",
    "first_addrinput_strlen_df = client_addr_df[['USER_ID','addr_str_len']].rename(columns={'addr_str_len':'first_addrinput_strlen'})"
   ]
  },
  {
   "cell_type": "code",
   "execution_count": null,
   "metadata": {
    "collapsed": true
   },
   "outputs": [],
   "source": []
  }
 ],
 "metadata": {
  "kernelspec": {
   "display_name": "Python 3",
   "language": "python",
   "name": "python3"
  },
  "language_info": {
   "codemirror_mode": {
    "name": "ipython",
    "version": 3
   },
   "file_extension": ".py",
   "mimetype": "text/x-python",
   "name": "python",
   "nbconvert_exporter": "python",
   "pygments_lexer": "ipython3",
   "version": "3.6.0"
  }
 },
 "nbformat": 4,
 "nbformat_minor": 2
}
